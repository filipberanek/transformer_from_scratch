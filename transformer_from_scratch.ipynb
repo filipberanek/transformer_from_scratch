{
 "cells": [
  {
   "cell_type": "markdown",
   "metadata": {},
   "source": [
    "This notebook is based on summary from Fernando Torres </br>\n",
    "https://www.kaggle.com/code/lusfernandotorres/transformer-from-scratch-with-pytorch </br>\n",
    "Most of the code and comments are copied from the article and there is only added extension with more explanation where is needed. "
   ]
  },
  {
   "cell_type": "markdown",
   "metadata": {},
   "source": [
    "## Lib imports"
   ]
  },
  {
   "cell_type": "code",
   "execution_count": 1,
   "metadata": {},
   "outputs": [
    {
     "name": "stderr",
     "output_type": "stream",
     "text": [
      "/home/fberanek/Desktop/learning/experiments/transformer_from_scratch/venv/lib/python3.10/site-packages/tqdm/auto.py:21: TqdmWarning: IProgress not found. Please update jupyter and ipywidgets. See https://ipywidgets.readthedocs.io/en/stable/user_install.html\n",
      "  from .autonotebook import tqdm as notebook_tqdm\n"
     ]
    }
   ],
   "source": [
    "# Importing libraries\n",
    "\n",
    "# PyTorch\n",
    "import torch\n",
    "import torch.nn as nn\n",
    "from torch.utils.data import Dataset, DataLoader, random_split\n",
    "from torch.utils.tensorboard import SummaryWriter\n",
    "\n",
    "# Math\n",
    "import math\n",
    "\n",
    "# HuggingFace libraries\n",
    "from datasets import load_dataset\n",
    "from tokenizers import Tokenizer\n",
    "from tokenizers.models import WordLevel\n",
    "from tokenizers.trainers import WordLevelTrainer\n",
    "from tokenizers.pre_tokenizers import Whitespace\n",
    "\n",
    "import numpy as np\n",
    "\n",
    "import matplotlib.pyplot as plt\n",
    "\n",
    "# Pathlib\n",
    "from pathlib import Path\n",
    "\n",
    "# typing\n",
    "from typing import Any\n",
    "\n",
    "# Library for progress bars in loops\n",
    "from tqdm import tqdm\n",
    "\n",
    "# Importing library of warnings\n",
    "import warnings"
   ]
  },
  {
   "cell_type": "markdown",
   "metadata": {},
   "source": [
    "## Config definition"
   ]
  },
  {
   "cell_type": "markdown",
   "metadata": {},
   "source": [
    "In the following cell, we will define two functions to configure our model and the training process.\n",
    "\n",
    "In the get_config function, we define crucial parameters for the training process. batch_size for the number of training examples used in one iteration, num_epochs as the number of times the entire dataset is passed forward and backward through the Transformer, lr as the learning rate for the optimizer, etc. We will also finally define the pairs from the OpusBook dataset, 'lang_src': 'en' for selecting English as the source language and 'lang_tgt': 'it' for selecting Italian as the target language."
   ]
  },
  {
   "cell_type": "code",
   "execution_count": 2,
   "metadata": {},
   "outputs": [],
   "source": [
    "# Define settings for building and training the transformer model\n",
    "def get_config():\n",
    "    return {\n",
    "        \"batch_size\": 8,\n",
    "        \"num_epochs\": 2,\n",
    "        \"lr\": 10**-4,\n",
    "        \"seq_len\": 350,\n",
    "        \"d_model\": 512,  # Dimensions of the embeddings in the Transformer. 512 like in the \"Attention Is All You Need\" paper.\n",
    "        \"lang_src\": \"en\",\n",
    "        \"lang_tgt\": \"it\",\n",
    "        \"model_folder\": \"weights\",\n",
    "        \"model_basename\": \"tmodel_\",\n",
    "        \"preload\": None,\n",
    "        \"tokenizer_file\": \"tokenizer_{0}.json\",\n",
    "        \"experiment_name\": \"runs/tmodel\",\n",
    "    }"
   ]
  },
  {
   "cell_type": "markdown",
   "metadata": {},
   "source": [
    "## Dataset"
   ]
  },
  {
   "cell_type": "markdown",
   "metadata": {},
   "source": [
    "Lets start with our goal definition. We have a dataset on with paris of sentences in different languages. We want to train a model, so we will be able to take input and translate it into same meaning, but in different language."
   ]
  },
  {
   "cell_type": "markdown",
   "metadata": {},
   "source": [
    "\n",
    "\n",
    "For this task, we will use the OpusBooks dataset, available on 🤗Hugging Face. This dataset consists of two features, id and translation. The translation feature contains pairs of sentences in different languages, such as Spanish and Portuguese, English and French, and so forth.\n",
    "\n",
    "I first tried translating sentences from English to Portuguese—my native tongue — but there are only 1.4k examples for this pair, so the results were not satisfying in the current configurations for this model. I then tried to use the English-French pair due to its higher number of examples—127k—but it would take too long to train with the current configurations. I then opted to train the model on the English-Italian pair, the same one used in the Coding a Transformer from scratch on PyTorch, with full explanation, training and inference video, as that was a good balance between performance and time of training.\n",
    "\n",
    "We start by defining the get_all_sentences function to iterate over the dataset and extract the sentences according to the language pair defined—we will do that later.\n"
   ]
  },
  {
   "cell_type": "markdown",
   "metadata": {},
   "source": [
    "Lets start by looking at the dataset"
   ]
  },
  {
   "cell_type": "code",
   "execution_count": 3,
   "metadata": {},
   "outputs": [
    {
     "name": "stdout",
     "output_type": "stream",
     "text": [
      "ds_raw Dataset({\n",
      "    features: ['id', 'translation'],\n",
      "    num_rows: 32332\n",
      "})\n"
     ]
    }
   ],
   "source": [
    "config = get_config()\n",
    "ds_raw = load_dataset(\"opus_books\", f'{config[\"lang_src\"]}-{config[\"lang_tgt\"]}', split=\"train\")\n",
    "print(f\"ds_raw {ds_raw}\")"
   ]
  },
  {
   "cell_type": "markdown",
   "metadata": {},
   "source": [
    "We can see, that dataset has 32 332 rows/record. Lets have a look at one record in detail. It consists out of 'Source' and 'translation'"
   ]
  },
  {
   "cell_type": "code",
   "execution_count": 4,
   "metadata": {},
   "outputs": [
    {
     "data": {
      "text/plain": [
       "dict_keys(['en', 'it'])"
      ]
     },
     "execution_count": 4,
     "metadata": {},
     "output_type": "execute_result"
    }
   ],
   "source": [
    "ds_raw[0][\"translation\"].keys()"
   ]
  },
  {
   "cell_type": "code",
   "execution_count": 5,
   "metadata": {},
   "outputs": [
    {
     "name": "stdout",
     "output_type": "stream",
     "text": [
      "Keys in one record: dict_keys(['id', 'translation'])\n",
      "Keys in 'translation': dict_keys(['en', 'it'])\n",
      "Complete dictionary: {'id': '0', 'translation': {'en': 'Source: Project Gutenberg', 'it': 'Source: www.liberliber.it/Audiobook available here'}}\n"
     ]
    }
   ],
   "source": [
    "print(f\"Keys in one record: {ds_raw[0].keys()}\")\n",
    "print(f\"Keys in 'translation': {ds_raw[0]['translation'].keys()}\")\n",
    "print(f\"Complete dictionary: {ds_raw[0]}\")"
   ]
  },
  {
   "cell_type": "markdown",
   "metadata": {},
   "source": [
    "## Tokenizer"
   ]
  },
  {
   "cell_type": "markdown",
   "metadata": {},
   "source": [
    "Now, that we know how dataset looks like, lets move on to tokenizer. \n",
    "\n",
    "Tokenization is a crucial preprocessing step for our Transformer model. In this step, we convert raw text into a number format that the model can process.\n",
    "\n",
    "There are several Tokenization strategies. We will use the word-level tokenization to transform each word in a sentence into a token.\n",
    "\n",
    "<a><img src=\"https://substackcdn.com/image/fetch/f_auto,q_auto:good,fl_progressive:steep/https%3A%2F%2Fbucketeer-e05bbc84-baa3-437e-9518-adb32be77984.s3.amazonaws.com%2Fpublic%2Fimages%2F8d5e749c-b0bd-4496-85a1-9b4397ad935f_1400x787.jpeg\" ></a>\n",
    "\n",
    "Different tokenization strategies. Source: shaankhosla.substack.com.\n",
    "\n",
    "After tokenizing a sentence, we map each token to an unique integer ID based on the created vocabulary present in the training corpus during the training of the tokenizer. Each integer number represents a specific word in the vocabulary.\n",
    "\n",
    "Besides the words in the training corpus, Transformers use special tokens for specific purposes. These are some that we will define right away:\n",
    "\n",
    "• [UNK]: This token is used to identify an unknown word in the sequence.\n",
    "\n",
    "• [PAD]: Padding token to ensure that all sequences in a batch have the same length, so we pad shorter sentences with this token. We use attention masks to \"tell\" the model to ignore the padded tokens during training since they don't have any real meaning to the task.\n",
    "\n",
    "• [SOS]: This is a token used to signal the Start of Sentence.\n",
    "\n",
    "• [EOS]: This is a token used to signal the End of Sentence.\n",
    "\n",
    "In the build_tokenizer function below, we ensure a tokenizer is ready to train the model. It checks if there is an existing tokenizer, and if that is not the case, it trains a new tokenizer.\n"
   ]
  },
  {
   "cell_type": "markdown",
   "metadata": {},
   "source": [
    "We start by defining the get_all_sentences function to iterate over the dataset and extract the sentences according to the language pair defined—we will do that later."
   ]
  },
  {
   "cell_type": "code",
   "execution_count": 6,
   "metadata": {},
   "outputs": [],
   "source": [
    "# Iterating through dataset to extract the original sentence and its translation\n",
    "def get_all_sentences(ds, lang):\n",
    "    for pair in ds:\n",
    "        yield pair[\"translation\"][lang]"
   ]
  },
  {
   "cell_type": "markdown",
   "metadata": {},
   "source": [
    "We define function, that is going to build us a tokenizer.It basicaly learn how to translate all words in text into integer. "
   ]
  },
  {
   "cell_type": "code",
   "execution_count": 7,
   "metadata": {},
   "outputs": [],
   "source": [
    "# Defining Tokenizer\n",
    "def build_tokenizer(config, ds, lang):\n",
    "\n",
    "    # Crating a file path for the tokenizer\n",
    "    tokenizer_path = Path(config[\"tokenizer_file\"].format(lang))\n",
    "\n",
    "    # Checking if Tokenizer already exists\n",
    "    if not Path.exists(tokenizer_path):\n",
    "\n",
    "        # If it doesn't exist, we create a new one\n",
    "        tokenizer = Tokenizer(WordLevel(unk_token=\"[UNK]\"))  # Initializing a new world-level tokenizer\n",
    "        tokenizer.pre_tokenizer = Whitespace()  # We will split the text into tokens based on whitespace\n",
    "\n",
    "        # Creating a trainer for the new tokenizer\n",
    "        trainer = WordLevelTrainer(\n",
    "            special_tokens=[\"[UNK]\", \"[PAD]\", \"[SOS]\", \"[EOS]\"], min_frequency=2\n",
    "        )  # Defining Word Level strategy and special tokens\n",
    "\n",
    "        # Training new tokenizer on sentences from the dataset and language specified\n",
    "        tokenizer.train_from_iterator(get_all_sentences(ds, lang), trainer=trainer)\n",
    "        tokenizer.save(\n",
    "            str(tokenizer_path)\n",
    "        )  # Saving trained tokenizer to the file path specified at the beginning of the function\n",
    "    else:\n",
    "        tokenizer = Tokenizer.from_file(str(tokenizer_path))  # If the tokenizer already exist, we load it\n",
    "    return tokenizer  # Returns the loaded tokenizer or the trained tokenizer"
   ]
  },
  {
   "cell_type": "markdown",
   "metadata": {},
   "source": [
    "Call function of tokenizer, so we can use it in our examples later and select firs par of sentences from our dataset."
   ]
  },
  {
   "cell_type": "code",
   "execution_count": 8,
   "metadata": {},
   "outputs": [],
   "source": [
    "# Building or loading tokenizer for both the source and target languages \n",
    "tokenizer_src = build_tokenizer(config, ds_raw, config['lang_src'])\n",
    "tokenizer_tgt = build_tokenizer(config, ds_raw, config['lang_tgt'])\n",
    "pair = ds_raw[0]"
   ]
  },
  {
   "cell_type": "markdown",
   "metadata": {},
   "source": [
    "Lets look at example. We have our source example as pure text. We tokenize it by splitting word into tokend and then converting them into integers. Integers stands for IDs of particular words. e.g. word \"Hello\" will be replace by for example ID/integer 451. "
   ]
  },
  {
   "cell_type": "code",
   "execution_count": 9,
   "metadata": {},
   "outputs": [
    {
     "name": "stdout",
     "output_type": "stream",
     "text": [
      "Original text: Source: Project Gutenberg\n",
      "Tokens from text ['Source', ':', 'Project', '[UNK]']\n",
      "Token Ids for each token [5781, 38, 7699, 0]\n"
     ]
    }
   ],
   "source": [
    "print(f\"Original text: {pair['translation'][config['lang_src']]}\")\n",
    "print(f\"Tokens from text {tokenizer_src.encode(pair['translation'][config['lang_src']]).tokens}\")\n",
    "print(f\"Token Ids for each token {tokenizer_src.encode(pair['translation'][config['lang_src']]).ids}\")"
   ]
  },
  {
   "cell_type": "markdown",
   "metadata": {},
   "source": [
    "## Input Embeddings"
   ]
  },
  {
   "cell_type": "markdown",
   "metadata": {},
   "source": [
    "Now, when we have token and tokens converted into vectors, lets move on to embeddings. \n",
    "\n",
    "\n",
    "\n",
    "When we observe the Transformer architecture image above, we can see that the Embeddings represent the first step of both blocks.\n",
    "\n",
    "The InputEmbedding class below is responsible for converting the input text into numerical vectors of d_model dimensions. To prevent that our input embeddings become extremely small, we normalize them by multiplying them by the √dmodel.\n",
    "\n",
    "\n",
    "In the image below, we can see how the embeddings are created. First, we have a sentence that gets split into tokens—we will explore what tokens are later on—. Then, the token IDs—identification numbers—are transformed into the embeddings, which are high-dimensional vectors."
   ]
  },
  {
   "cell_type": "code",
   "execution_count": 10,
   "metadata": {},
   "outputs": [],
   "source": [
    "# Creating Input Embeddings\n",
    "class InputEmbeddings(nn.Module):\n",
    "\n",
    "    def __init__(self, d_model: int, vocab_size: int):\n",
    "        super().__init__()\n",
    "        self.d_model = d_model  # Dimension of vectors (512)\n",
    "        self.vocab_size = vocab_size  # Size of the vocabulary\n",
    "        self.embedding = nn.Embedding(\n",
    "            vocab_size, d_model\n",
    "        )  # PyTorch layer that converts integer indices to dense embeddings\n",
    "\n",
    "    def forward(self, x):\n",
    "        return self.embedding(x) * math.sqrt(self.d_model)  # Normalizing the variance of the embeddings"
   ]
  },
  {
   "cell_type": "markdown",
   "metadata": {},
   "source": [
    "Firstly convert teext again into ids of tokens. Get vocabulary size of our tokenizer, which is needed for our Embeddings and then convert ids into Embeddings. Embeddings are vector space representation of particular word. "
   ]
  },
  {
   "cell_type": "code",
   "execution_count": 11,
   "metadata": {},
   "outputs": [
    {
     "name": "stdout",
     "output_type": "stream",
     "text": [
      "Shape of embedding is: torch.Size([4, 512]) \n",
      "\n",
      "tensor([[-14.7047, -13.9376,  17.2903,  ...,  18.9904, -27.8437,  12.8378],\n",
      "        [  7.3217,   3.8725,  28.8192,  ..., -17.4940, -26.1637,  35.1643],\n",
      "        [ 22.5836,  -5.9732,  29.9951,  ...,  58.5015,  32.2066,   7.2411],\n",
      "        [ 20.1078,   2.4914,  -5.0430,  ..., -14.1383, -11.2679, -33.6604]],\n",
      "       grad_fn=<MulBackward0>)\n"
     ]
    }
   ],
   "source": [
    "# Get words IDs\n",
    "src_ids = tokenizer_src.encode(pair[\"translation\"][config[\"lang_src\"]]).ids\n",
    "# Get vocab size\n",
    "src_vocab_size = tokenizer_src.get_vocab_size()\n",
    "# Initialize Embeddings using vocab size\n",
    "src_embedd = InputEmbeddings(d_model=config[\"d_model\"], vocab_size=src_vocab_size)\n",
    "# Create embeddings\n",
    "embedding = src_embedd.forward(torch.tensor(src_ids))\n",
    "print(f\"Shape of embedding is: {embedding.shape} \\n\")\n",
    "print(embedding)"
   ]
  },
  {
   "cell_type": "code",
   "execution_count": 12,
   "metadata": {},
   "outputs": [
    {
     "data": {
      "text/plain": [
       "torch.Size([4, 512])"
      ]
     },
     "execution_count": 12,
     "metadata": {},
     "output_type": "execute_result"
    }
   ],
   "source": [
    "src_embedd.forward(torch.tensor(src_ids)).shape"
   ]
  },
  {
   "cell_type": "markdown",
   "metadata": {},
   "source": [
    "## Loading Dataset"
   ]
  },
  {
   "cell_type": "markdown",
   "metadata": {},
   "source": [
    "\n",
    "\n",
    "For this task, we will use the OpusBooks dataset, available on 🤗Hugging Face. This dataset consists of two features, id and translation. The translation feature contains pairs of sentences in different languages, such as Spanish and Portuguese, English and French, and so forth.\n",
    "\n",
    "I first tried translating sentences from English to Portuguese—my native tongue — but there are only 1.4k examples for this pair, so the results were not satisfying in the current configurations for this model. I then tried to use the English-French pair due to its higher number of examples—127k—but it would take too long to train with the current configurations. I then opted to train the model on the English-Italian pair, the same one used in the Coding a Transformer from scratch on PyTorch, with full explanation, training and inference video, as that was a good balance between performance and time of training.\n",
    "\n",
    "We start by defining the get_all_sentences function to iterate over the dataset and extract the sentences according to the language pair defined—we will do that later.\n"
   ]
  },
  {
   "cell_type": "markdown",
   "metadata": {},
   "source": [
    "First thing we need to do is define mask, which will filter out words, therefore decoded mask wont be displaying future words."
   ]
  },
  {
   "cell_type": "code",
   "execution_count": 13,
   "metadata": {},
   "outputs": [],
   "source": [
    "def casual_mask(size):\n",
    "    # Creating a square matrix of dimensions 'size x size' filled with ones\n",
    "    mask = torch.triu(torch.ones(1, size, size), diagonal=1).type(torch.int)\n",
    "    return mask == 0"
   ]
  },
  {
   "cell_type": "code",
   "execution_count": 14,
   "metadata": {},
   "outputs": [
    {
     "data": {
      "text/plain": [
       "tensor([[[ True, False, False, False],\n",
       "         [ True,  True, False, False],\n",
       "         [ True,  True,  True, False],\n",
       "         [ True,  True,  True,  True]]])"
      ]
     },
     "execution_count": 14,
     "metadata": {},
     "output_type": "execute_result"
    }
   ],
   "source": [
    "casual_mask(4)"
   ]
  },
  {
   "cell_type": "markdown",
   "metadata": {},
   "source": [
    "We can now define standard dataset. Method __getitem__ is fairly simple. Based on index we take source and target sentences. We convert them into ids. We add padding tokens to fill maximum length of source and target."
   ]
  },
  {
   "cell_type": "code",
   "execution_count": 15,
   "metadata": {},
   "outputs": [],
   "source": [
    "class BilingualDataset(Dataset):\n",
    "\n",
    "    # This takes in the dataset contaning sentence pairs, the tokenizers for target and source languages, and the strings of source and target languages\n",
    "    # 'seq_len' defines the sequence length for both languages\n",
    "    def __init__(self, ds, tokenizer_src, tokenizer_tgt, src_lang, tgt_lang, seq_len) -> None:\n",
    "        super().__init__()\n",
    "\n",
    "        self.seq_len = seq_len\n",
    "        self.ds = ds\n",
    "        self.tokenizer_src = tokenizer_src\n",
    "        self.tokenizer_tgt = tokenizer_tgt\n",
    "        self.src_lang = src_lang\n",
    "        self.tgt_lang = tgt_lang\n",
    "\n",
    "        # Defining special tokens by using the target language tokenizer\n",
    "        self.sos_token = torch.tensor([tokenizer_tgt.token_to_id(\"[SOS]\")], dtype=torch.int64)\n",
    "        self.eos_token = torch.tensor([tokenizer_tgt.token_to_id(\"[EOS]\")], dtype=torch.int64)\n",
    "        self.pad_token = torch.tensor([tokenizer_tgt.token_to_id(\"[PAD]\")], dtype=torch.int64)\n",
    "\n",
    "    # Total number of instances in the dataset (some pairs are larger than others)\n",
    "    def __len__(self):\n",
    "        return len(self.ds)\n",
    "\n",
    "    # Using the index to retrive source and target texts\n",
    "    def __getitem__(self, index: Any) -> Any:\n",
    "        src_target_pair = self.ds[index]\n",
    "        src_text = src_target_pair[\"translation\"][self.src_lang]\n",
    "        tgt_text = src_target_pair[\"translation\"][self.tgt_lang]\n",
    "\n",
    "        # Tokenizing source and target texts\n",
    "        enc_input_tokens = self.tokenizer_src.encode(src_text).ids\n",
    "        dec_input_tokens = self.tokenizer_tgt.encode(tgt_text).ids\n",
    "\n",
    "        # Computing how many padding tokens need to be added to the tokenized texts\n",
    "        # Source tokens\n",
    "        enc_num_padding_tokens = (\n",
    "            self.seq_len - len(enc_input_tokens) - 2\n",
    "        )  # Subtracting the two '[EOS]' and '[SOS]' special tokens\n",
    "        # Target tokens\n",
    "        dec_num_padding_tokens = self.seq_len - len(dec_input_tokens) - 1  # Subtracting the '[SOS]' special token\n",
    "\n",
    "        # If the texts exceed the 'seq_len' allowed, it will raise an error. This means that one of the sentences in the pair is too long to be processed\n",
    "        # given the current sequence length limit (this will be defined in the config dictionary below)\n",
    "        if enc_num_padding_tokens < 0 or dec_num_padding_tokens < 0:\n",
    "            raise ValueError(\"Sentence is too long\")\n",
    "\n",
    "        # Building the encoder input tensor by combining several elements\n",
    "        encoder_input = torch.cat(\n",
    "            [\n",
    "                self.sos_token,  # inserting the '[SOS]' token\n",
    "                torch.tensor(enc_input_tokens, dtype=torch.int64),  # Inserting the tokenized source text\n",
    "                self.eos_token,  # Inserting the '[EOS]' token\n",
    "                torch.tensor([self.pad_token] * enc_num_padding_tokens, dtype=torch.int64),  # Addind padding tokens\n",
    "            ]\n",
    "        )\n",
    "\n",
    "        # Building the decoder input tensor by combining several elements\n",
    "        decoder_input = torch.cat(\n",
    "            [\n",
    "                self.sos_token,  # inserting the '[SOS]' token\n",
    "                torch.tensor(dec_input_tokens, dtype=torch.int64),  # Inserting the tokenized target text\n",
    "                torch.tensor([self.pad_token] * dec_num_padding_tokens, dtype=torch.int64),  # Addind padding tokens\n",
    "            ]\n",
    "        )\n",
    "\n",
    "        # Creating a label tensor, the expected output for training the model\n",
    "        label = torch.cat(\n",
    "            [\n",
    "                torch.tensor(dec_input_tokens, dtype=torch.int64),  # Inserting the tokenized target text\n",
    "                self.eos_token,  # Inserting the '[EOS]' token\n",
    "                torch.tensor([self.pad_token] * dec_num_padding_tokens, dtype=torch.int64),  # Adding padding tokens\n",
    "            ]\n",
    "        )\n",
    "\n",
    "        # Ensuring that the length of each tensor above is equal to the defined 'seq_len'\n",
    "        assert encoder_input.size(0) == self.seq_len\n",
    "        assert decoder_input.size(0) == self.seq_len\n",
    "        assert label.size(0) == self.seq_len\n",
    "\n",
    "        return {\n",
    "            \"encoder_input\": encoder_input,\n",
    "            \"decoder_input\": decoder_input,\n",
    "            \"encoder_mask\": (encoder_input != self.pad_token).unsqueeze(0).unsqueeze(0).int(),\n",
    "            \"decoder_mask\": (decoder_input != self.pad_token).unsqueeze(0).unsqueeze(0).int()\n",
    "            & casual_mask(decoder_input.size(0)),\n",
    "            \"label\": label,\n",
    "            \"src_text\": src_text,\n",
    "            \"tgt_text\": tgt_text,\n",
    "        }"
   ]
  },
  {
   "cell_type": "markdown",
   "metadata": {},
   "source": [
    "Lets see returned keys"
   ]
  },
  {
   "cell_type": "code",
   "execution_count": 16,
   "metadata": {},
   "outputs": [
    {
     "data": {
      "text/plain": [
       "dict_keys(['encoder_input', 'decoder_input', 'encoder_mask', 'decoder_mask', 'label', 'src_text', 'tgt_text'])"
      ]
     },
     "execution_count": 16,
     "metadata": {},
     "output_type": "execute_result"
    }
   ],
   "source": [
    "ds_raw = load_dataset(\"opus_books\", f'{config[\"lang_src\"]}-{config[\"lang_tgt\"]}', split=\"train\")\n",
    "BDS = BilingualDataset(ds_raw, \n",
    "                 tokenizer_src, \n",
    "                 tokenizer_tgt, \n",
    "                 config[\"lang_src\"], \n",
    "                 config[\"lang_tgt\"], \n",
    "                 config[\"seq_len\"])\n",
    "BDS.__getitem__(0).keys()"
   ]
  },
  {
   "cell_type": "markdown",
   "metadata": {},
   "source": [
    "We can build dataloaders right now. \n",
    "\n",
    "\n",
    "\n",
    "The get_dl function is defined to load and prepare the dataset for training and validation. In this function, we build or load the tokenizer, split the dataset, and create DataLoaders, so the model can successfully iterate over the dataset in batches. The result of these functions is tokenizers for the source and target languages plus the DataLoader objects.\n"
   ]
  },
  {
   "cell_type": "code",
   "execution_count": 17,
   "metadata": {},
   "outputs": [],
   "source": [
    "def get_dl(config):\n",
    "\n",
    "    # Loading the train portion of the OpusBooks dataset.\n",
    "    # The Language pairs will be defined in the 'config' dictionary we will build later\n",
    "    ds_raw = load_dataset(\"opus_books\", f'{config[\"lang_src\"]}-{config[\"lang_tgt\"]}', split=\"train\")\n",
    "\n",
    "    # Building or loading tokenizer for both the source and target languages\n",
    "    tokenizer_src = build_tokenizer(config, ds_raw, config[\"lang_src\"])\n",
    "    tokenizer_tgt = build_tokenizer(config, ds_raw, config[\"lang_tgt\"])\n",
    "\n",
    "    # Splitting the dataset for training and validation\n",
    "    train_ds_size = int(0.9 * len(ds_raw))  # 90% for training\n",
    "    val_ds_size = len(ds_raw) - train_ds_size  # 10% for validation\n",
    "    train_ds_raw, val_ds_raw = random_split(ds_raw, [train_ds_size, val_ds_size])  # Randomly splitting the dataset\n",
    "\n",
    "    # Processing data with the BilingualDataset class, which we will define below\n",
    "    train_ds = BilingualDataset(\n",
    "        train_ds_raw, tokenizer_src, tokenizer_tgt, config[\"lang_src\"], config[\"lang_tgt\"], config[\"seq_len\"]\n",
    "    )\n",
    "    val_ds = BilingualDataset(\n",
    "        val_ds_raw, tokenizer_src, tokenizer_tgt, config[\"lang_src\"], config[\"lang_tgt\"], config[\"seq_len\"]\n",
    "    )\n",
    "\n",
    "    # Iterating over the entire dataset and printing the maximum length found in the sentences of both the source and target languages\n",
    "    max_len_src = 0\n",
    "    max_len_tgt = 0\n",
    "    for pair in ds_raw:\n",
    "        src_ids = tokenizer_src.encode(pair[\"translation\"][config[\"lang_src\"]]).ids\n",
    "        tgt_ids = tokenizer_src.encode(pair[\"translation\"][config[\"lang_tgt\"]]).ids\n",
    "        max_len_src = max(max_len_src, len(src_ids))\n",
    "        max_len_tgt = max(max_len_tgt, len(tgt_ids))\n",
    "\n",
    "    print(f\"Max length of source sentence: {max_len_src}\")\n",
    "    print(f\"Max length of target sentence: {max_len_tgt}\")\n",
    "\n",
    "    # Creating dataloaders for the training and validadion sets\n",
    "    # Dataloaders are used to iterate over the dataset in batches during training and validation\n",
    "    train_dataloader = DataLoader(\n",
    "        train_ds, batch_size=config[\"batch_size\"], shuffle=True\n",
    "    )  # Batch size will be defined in the config dictionary\n",
    "    val_dataloader = DataLoader(val_ds, batch_size=1, shuffle=True)\n",
    "\n",
    "    return (\n",
    "        train_dataloader,\n",
    "        val_dataloader,\n",
    "        tokenizer_src,\n",
    "        tokenizer_tgt,\n",
    "    )  # Returning the DataLoader objects and tokenizers"
   ]
  },
  {
   "cell_type": "markdown",
   "metadata": {},
   "source": [
    "## Transformers Introduction"
   ]
  },
  {
   "cell_type": "markdown",
   "metadata": {},
   "source": [
    "\n",
    "\n",
    "In 2017, the Google Research team published a paper called \"Attention Is All You Need\", which presented the Transformer architecture and was a paradigm shift in Machine Learning, especially in Deep Learning and the field of natural language processing.\n",
    "\n",
    "The Transformer, with its parallel processing capabilities, allowed for more efficient and scalable models, making it easier to train them on large datasets. It also demonstrated superior performance in several NLP tasks, such as sentiment analysis and text generation tasks.\n",
    "\n",
    "The archicture presented in this paper served as the foundation for subsequent models like GPT and BERT. Besides NLP, the Transformer architecture is used in other fields, like audio processing and computer vision. You can see the usage of Transformers in audio classification in the notebook Audio Data: Music Genre Classification.\n",
    "\n",
    "Even though you can easily employ different types of Transformers with the 🤗Transformers library, it is crucial to understand how things truly work by building them from scratch.\n",
    "\n",
    "In this notebook, we will explore the Transformer architecture and all its components. I will use PyTorch to build all the necessary structures and blocks, and I will use the Coding a Transformer from scratch on PyTorch, with full explanation, training and inference video posted by Umar Jamil on YouTube as reference."
   ]
  },
  {
   "cell_type": "markdown",
   "metadata": {},
   "source": [
    "## Transformer architecture"
   ]
  },
  {
   "cell_type": "markdown",
   "metadata": {},
   "source": [
    "<a ><img src=\"https://miro.medium.com/v2/resize:fit:1100/format:webp/1*s5XcjuosS8ohfsW5xFT3sQ.png\"></a>"
   ]
  },
  {
   "cell_type": "markdown",
   "metadata": {},
   "source": [
    "Source: Attention Is All You Need\n",
    "\n",
    "The Transformer architecture has two main blocks: the encoder and the decoder. Let's take a look at them further.\n",
    "\n",
    "<b>Encoder</b>: It has a Multi-Head Attention mechanism and a fully connected Feed-Forward network. There are also residual connections around the two sub-layers, plus layer normalization for the output of each sub-layer. All sub-layers in the model and the embedding layers produce outputs of dimension dmodel=512\n",
    "\n",
    ".\n",
    "\n",
    "<b>Decoder</b>: The decoder follows a similar structure, but it inserts a third sub-layer that performs multi-head attention over the output of the encoder block. There is also a modification of the self-attention sub-layer in the decoder block to avoid positions from attending to subsequent positions. This masking ensures that the predictions for position i\n",
    "depend solely on the known outputs at positions less than i\n",
    "\n",
    ".\n",
    "\n",
    "Both the encoder and decode blocks are repeated N\n",
    "times. In the original paper, they defined N=6, and we will define a similar value in this notebook."
   ]
  },
  {
   "cell_type": "markdown",
   "metadata": {},
   "source": [
    "## Positional Encoding"
   ]
  },
  {
   "cell_type": "markdown",
   "metadata": {},
   "source": [
    "\n",
    "\n",
    "In the original paper, the authors add the positional encodings to the input embeddings at the bottom of both the encoder and decoder blocks so the model can have some information about the relative or absolute position of the tokens in the sequence. The positional encodings have the same dimension dmodel\n",
    "\n",
    "as the embeddings, so that the two vectors can be summed and we can combine the semantic content from the word embeddings and positional information from the positional encodings.\n",
    "\n",
    "In the PositionalEncoding class below, we will create a matrix of positional encodings pe with dimensions (seq_len, d_model). We will start by filling it with 0\n",
    "\n",
    "s.We will then apply the sine function to even indices of the positional encoding matrix while the cosine function is applied to the odd ones.\n",
    "\n",
    "Even Indices (2i):PE(pos, 2i)=sin(pos100002i/dmodel)(1)\n",
    "\n",
    "Odd Indices (2i+1):PE(pos, 2i+1)=cos(pos100002i/dmodel)(2)\n",
    "\n",
    "We apply the sine and cosine functions because it allows the model to determine the position of a word based on the position of other words in the sequence, since for any fixed offset k\n",
    ", PEpos+k can be represented as a linear function of PEpos. This happens due to the properties of sine and cosine functions, where a shift in the input results in a predictable change in the output."
   ]
  },
  {
   "cell_type": "code",
   "execution_count": 18,
   "metadata": {},
   "outputs": [],
   "source": [
    "# Creating the Positional Encoding\n",
    "class PositionalEncoding(nn.Module):\n",
    "\n",
    "    def __init__(self, d_model: int, seq_len: int, dropout: float) -> None:\n",
    "        super().__init__()\n",
    "        self.d_model = d_model  # Dimensionality of the model\n",
    "        self.seq_len = seq_len  # Maximum sequence length\n",
    "        self.dropout = nn.Dropout(dropout)  # Dropout layer to prevent overfitting\n",
    "\n",
    "        # Creating a positional encoding matrix of shape (seq_len, d_model) filled with zeros\n",
    "        pe = torch.zeros(seq_len, d_model)\n",
    "\n",
    "        # Creating a tensor representing positions (0 to seq_len - 1)\n",
    "        position = torch.arange(0, seq_len, dtype=torch.float).unsqueeze(\n",
    "            1\n",
    "        )  # Transforming 'position' into a 2D tensor['seq_len, 1']\n",
    "\n",
    "        # Creating the division term for the positional encoding formula\n",
    "        div_term = torch.exp(torch.arange(0, d_model, 2).float() * (-math.log(10000.0) / d_model))\n",
    "\n",
    "        # Apply sine to even indices in pe\n",
    "        pe[:, 0::2] = torch.sin(position * div_term)\n",
    "        # Apply cosine to odd indices in pe\n",
    "        pe[:, 1::2] = torch.cos(position * div_term)\n",
    "\n",
    "        # Adding an extra dimension at the beginning of pe matrix for batch handling\n",
    "        pe = pe.unsqueeze(0)\n",
    "\n",
    "        # Registering 'pe' as buffer. Buffer is a tensor not considered as a model parameter\n",
    "        self.register_buffer(\"pe\", pe)\n",
    "\n",
    "    def forward(self, x):\n",
    "        # Addind positional encoding to the input tensor X\n",
    "        x = x + (self.pe[:, : x.shape[1], :]).requires_grad_(False)\n",
    "        return self.dropout(x)  # Dropout for regularization"
   ]
  },
  {
   "cell_type": "markdown",
   "metadata": {},
   "source": [
    "Lets visualize how such positional encoding can look like using sin/cos. "
   ]
  },
  {
   "cell_type": "code",
   "execution_count": 19,
   "metadata": {},
   "outputs": [
    {
     "data": {
      "image/png": "[encoded data removed]",
      "text/plain": [
       "<Figure size 640x480 with 1 Axes>"
      ]
     },
     "metadata": {},
     "output_type": "display_data"
    }
   ],
   "source": [
    "PE = PositionalEncoding(d_model=100,seq_len=50,dropout=0.5)\n",
    "positional_encoding = PE.forward(torch.tensor(np.zeros((1, 50, 100))))\n",
    "positional_encoding = torch.squeeze(positional_encoding)\n",
    "\n",
    "plt.figure()\n",
    "plt.imshow(positional_encoding)\n",
    "plt.title(\"Positional encoding displayed as image\")\n",
    "plt.show()"
   ]
  },
  {
   "cell_type": "markdown",
   "metadata": {},
   "source": [
    "## Layer normalization"
   ]
  },
  {
   "cell_type": "markdown",
   "metadata": {},
   "source": [
    "\n",
    "\n",
    "When we look at the encoder and decoder blocks, we see several normalization layers called Add & Norm.\n",
    "\n",
    "The LayerNormalization class below performs layer normalization on the input data. During its forward pass, we compute the mean and standard deviation of the input data. We then normalize the input data by subtracting the mean and dividing by the standard deviation plus a small number called epsilon to avoid any divisions by zero. This process results in a normalized output with a mean 0 and a standard deviation 1.\n",
    "\n",
    "We will then scale the normalized output by a learnable parameter alpha and add a learnable parameter called bias. The training process is responsible for adjusting these parameters. The final result is a layer-normalized tensor, which ensures that the scale of the inputs to layers in the network is consistent.\n"
   ]
  },
  {
   "cell_type": "code",
   "execution_count": 20,
   "metadata": {},
   "outputs": [],
   "source": [
    "# Creating Layer Normalization\n",
    "class LayerNormalization(nn.Module):\n",
    "\n",
    "    def __init__(self, eps: float = 10**-6) -> None:  # We define epsilon as 0.000001 to avoid division by zero\n",
    "        super().__init__()\n",
    "        self.eps = eps\n",
    "\n",
    "        # We define alpha as a trainable parameter and initialize it with ones\n",
    "        self.alpha = nn.Parameter(torch.ones(1))  # One-dimensional tensor that will be used to scale the input data\n",
    "\n",
    "        # We define bias as a trainable parameter and initialize it with zeros\n",
    "        self.bias = nn.Parameter(torch.zeros(1))  # One-dimensional tenso that will be added to the input data\n",
    "\n",
    "    def forward(self, x):\n",
    "        mean = x.mean(\n",
    "            dim=-1, keepdim=True\n",
    "        )  # Computing the mean of the input data. Keeping the number of dimensions unchanged\n",
    "        std = x.std(\n",
    "            dim=-1, keepdim=True\n",
    "        )  # Computing the standard deviation of the input data. Keeping the number of dimensions unchanged\n",
    "\n",
    "        # Returning the normalized input\n",
    "        return self.alpha * (x - mean) / (std + self.eps) + self.bias"
   ]
  },
  {
   "cell_type": "markdown",
   "metadata": {},
   "source": [
    "Lets see example of normalization"
   ]
  },
  {
   "cell_type": "code",
   "execution_count": 21,
   "metadata": {},
   "outputs": [
    {
     "data": {
      "text/plain": [
       "tensor([ 1.2246, -1.2246,  0.0184, -0.0184], grad_fn=<AddBackward0>)"
      ]
     },
     "execution_count": 21,
     "metadata": {},
     "output_type": "execute_result"
    }
   ],
   "source": [
    "LN = LayerNormalization()\n",
    "LN.forward(torch.tensor([999., -999., 15., -15.]))"
   ]
  },
  {
   "cell_type": "markdown",
   "metadata": {},
   "source": [
    "## Feed-Forward network"
   ]
  },
  {
   "cell_type": "markdown",
   "metadata": {},
   "source": [
    "\n",
    "\n",
    "In the fully connected feed-forward network, we apply two linear transformations with a ReLU activation in between. We can mathematically represent this operation as:\n",
    "\n",
    "FFN(x)=max(0,xW1+b1)W2+b2(3)\n",
    "\n",
    "W1\n",
    "and W2 are the weights, while b1 and b2\n",
    "\n",
    "are the biases of the two linear transformations.\n",
    "\n",
    "In the FeedForwardBlock below, we will define the two linear transformations—self.linear_1 and self.linear_2—and the inner-layer d_ff. The input data will first pass through the self.linear_1 transformation, which increases its dimensionality from d_model to d_ff. The output of this operation passes through the ReLU activation function, which introduces non-linearity so the network can learn more complex patterns, and the self.dropout layer is applied to mitigate overfitting. The final operation is the self.linear_2 transformation to the dropout-modified tensor, which transforms it back to the original d_model dimension."
   ]
  },
  {
   "cell_type": "code",
   "execution_count": 22,
   "metadata": {},
   "outputs": [],
   "source": [
    "# Creating Feed Forward Layers\n",
    "class FeedForwardBlock(nn.Module):\n",
    "\n",
    "    def __init__(self, d_model: int, d_ff: int, dropout: float) -> None:\n",
    "        super().__init__()\n",
    "        # First linear transformation\n",
    "        self.linear_1 = nn.Linear(d_model, d_ff)  # W1 & b1\n",
    "        self.dropout = nn.Dropout(dropout)  # Dropout to prevent overfitting\n",
    "        # Second linear transformation\n",
    "        self.linear_2 = nn.Linear(d_ff, d_model)  # W2 & b2\n",
    "\n",
    "    def forward(self, x):\n",
    "        # (Batch, seq_len, d_model) --> (batch, seq_len, d_ff) -->(batch, seq_len, d_model)\n",
    "        return self.linear_2(self.dropout(torch.relu(self.linear_1(x))))"
   ]
  },
  {
   "cell_type": "markdown",
   "metadata": {},
   "source": [
    "Multi-Head attention"
   ]
  },
  {
   "cell_type": "markdown",
   "metadata": {},
   "source": [
    "The Multi-Head Attention is the most crucial component of the Transformer. It is responsible for helping the model to understand complex relationships and patterns in the data.\n",
    "\n",
    "The image below displays how the Multi-Head Attention works. It doesn't include batch dimension because it only illustrates the process for one single sentence.\n",
    "\n",
    "<a href=\"multi_head_attention.asp\"><img src=\"https://i.imgur.com/JqJVrsj.png\"></a>\n",
    "\n",
    "Source: YouTube: Coding a Transformer from scratch on PyTorch, with full explanation, training and inference by Umar Jamil.\n",
    "\n",
    "The Multi-Head Attention block receives the input data split into queries, keys, and values organized into matrices Q\n",
    ", K, and V\n",
    "\n",
    ". Each matrix contains different facets of the input, and they have the same dimensions as the input.\n",
    "\n",
    "We then linearly transform each matrix by their respective weight matrices WQ\n",
    ", WK, and WV. These transformations will result in new matrices Q′, K′, and V′, which will be split into smaller matrices corresponding to different heads h\n",
    "\n",
    ", allowing the model to attend to information from different representation subspaces in parallel. This split creates multiple sets of queries, keys, and values for each head.\n",
    "\n",
    "Finally, we concatenate every head into an H\n",
    "matrix, which is then transformed by another weight matrix Wo to produce the multi-head attention output, a matrix MH−A that retains the input dimensionality."
   ]
  },
  {
   "cell_type": "code",
   "execution_count": 23,
   "metadata": {},
   "outputs": [],
   "source": [
    "# Creating the Multi-Head Attention block\n",
    "class MultiHeadAttentionBlock(nn.Module):\n",
    "\n",
    "    def __init__(self, d_model: int, h: int, dropout: float) -> None:  # h = number of heads\n",
    "        super().__init__()\n",
    "        self.d_model = d_model\n",
    "        self.h = h\n",
    "\n",
    "        # We ensure that the dimensions of the model is divisible by the number of heads\n",
    "        assert d_model % h == 0, \"d_model is not divisible by h\"\n",
    "\n",
    "        # d_k is the dimension of each attention head's key, query, and value vectors\n",
    "        self.d_k = d_model // h  # d_k formula, like in the original \"Attention Is All You Need\" paper\n",
    "\n",
    "        # Defining the weight matrices\n",
    "        self.w_q = nn.Linear(d_model, d_model)  # W_q\n",
    "        self.w_k = nn.Linear(d_model, d_model)  # W_k\n",
    "        self.w_v = nn.Linear(d_model, d_model)  # W_v\n",
    "        self.w_o = nn.Linear(d_model, d_model)  # W_o\n",
    "\n",
    "        self.dropout = nn.Dropout(dropout)  # Dropout layer to avoid overfitting\n",
    "\n",
    "    @staticmethod\n",
    "    def attention(\n",
    "        query, key, value, mask, dropout: nn.Dropout\n",
    "    ):  # mask => When we want certain words to NOT interact with others, we \"hide\" them\n",
    "\n",
    "        d_k = query.shape[-1]  # The last dimension of query, key, and value\n",
    "\n",
    "        # We calculate the Attention(Q,K,V) as in the formula in the image above\n",
    "        attention_scores = (query @ key.transpose(-2, -1)) / math.sqrt(\n",
    "            d_k\n",
    "        )  # @ = Matrix multiplication sign in PyTorch\n",
    "\n",
    "        # Before applying the softmax, we apply the mask to hide some interactions between words\n",
    "        if mask is not None:  # If a mask IS defined...\n",
    "            attention_scores.masked_fill_(mask == 0, -1e9)  # Replace each value where mask is equal to 0 by -1e9\n",
    "        attention_scores = attention_scores.softmax(dim=-1)  # Applying softmax\n",
    "        if dropout is not None:  # If a dropout IS defined...\n",
    "            attention_scores = dropout(attention_scores)  # We apply dropout to prevent overfitting\n",
    "\n",
    "        return (\n",
    "            attention_scores @ value\n",
    "        ), attention_scores  # Multiply the output matrix by the V matrix, as in the formula\n",
    "\n",
    "    def forward(self, q, k, v, mask):\n",
    "\n",
    "        query = self.w_q(q)  # Q' matrix\n",
    "        key = self.w_k(k)  # K' matrix\n",
    "        value = self.w_v(v)  # V' matrix\n",
    "\n",
    "        # Splitting results into smaller matrices for the different heads\n",
    "        # Splitting embeddings (third dimension) into h parts\n",
    "        query = query.view(query.shape[0], query.shape[1], self.h, self.d_k).transpose(\n",
    "            1, 2\n",
    "        )  # Transpose => bring the head to the second dimension\n",
    "        key = key.view(key.shape[0], key.shape[1], self.h, self.d_k).transpose(\n",
    "            1, 2\n",
    "        )  # Transpose => bring the head to the second dimension\n",
    "        value = value.view(value.shape[0], value.shape[1], self.h, self.d_k).transpose(\n",
    "            1, 2\n",
    "        )  # Transpose => bring the head to the second dimension\n",
    "\n",
    "        # Obtaining the output and the attention scores\n",
    "        x, self.attention_scores = MultiHeadAttentionBlock.attention(query, key, value, mask, self.dropout)\n",
    "\n",
    "        # Obtaining the H matrix\n",
    "        x = x.transpose(1, 2).contiguous().view(x.shape[0], -1, self.h * self.d_k)\n",
    "\n",
    "        return self.w_o(x)  # Multiply the H matrix by the weight matrix W_o, resulting in the MH-A matrix"
   ]
  },
  {
   "cell_type": "markdown",
   "metadata": {},
   "source": [
    "## Residual connection"
   ]
  },
  {
   "cell_type": "markdown",
   "metadata": {},
   "source": [
    "\n",
    "\n",
    "When we look at the architecture of the Transformer, we see that each sub-layer, including the self-attention and Feed Forward blocks, adds its output to its input before passing it to the Add & Norm layer. This approach integrates the output with the original input in the Add & Norm layer. This process is known as the skip connection, which allows the Transformer to train deep networks more effectively by providing a shortcut for the gradient to flow through during backpropagation.\n",
    "\n",
    "The ResidualConnection class below is responsible for this process.\n"
   ]
  },
  {
   "cell_type": "code",
   "execution_count": 24,
   "metadata": {},
   "outputs": [],
   "source": [
    "# Building Residual Connection\n",
    "class ResidualConnection(nn.Module):\n",
    "    def __init__(self, dropout: float) -> None:\n",
    "        super().__init__()\n",
    "        self.dropout = nn.Dropout(dropout)  # We use a dropout layer to prevent overfitting\n",
    "        self.norm = LayerNormalization()  # We use a normalization layer\n",
    "\n",
    "    def forward(self, x, sublayer):\n",
    "        # We normalize the input and add it to the original input 'x'. This creates the residual connection process.\n",
    "        return x + self.dropout(sublayer(self.norm(x)))"
   ]
  },
  {
   "cell_type": "markdown",
   "metadata": {},
   "source": [
    "## Encoder"
   ]
  },
  {
   "cell_type": "markdown",
   "metadata": {},
   "source": [
    "We will now build the encoder. We create the EncoderBlock class, consisting of the Multi-Head Attention and Feed Forward layers, plus the residual connections.\n",
    "\n",
    "<a href=\"Encoder\"><img src=\"https://www.researchgate.net/profile/Ehsan-Amjadian/publication/352239001/figure/fig1/AS:1033334390013952@1623377525434/Detailed-view-of-a-transformer-encoder-block-It-first-passes-the-input-through-an.jpg\"></a>\n",
    "\n",
    "\n",
    "\n",
    "In the original paper, the Encoder Block repeats six times. We create the Encoder class as an assembly of multiple EncoderBlocks. We also add layer normalization as a final step after processing the input through all its blocks.\n"
   ]
  },
  {
   "cell_type": "code",
   "execution_count": 25,
   "metadata": {},
   "outputs": [],
   "source": [
    "# Building Encoder Block\n",
    "class EncoderBlock(nn.Module):\n",
    "\n",
    "    # This block takes in the MultiHeadAttentionBlock and FeedForwardBlock, as well as the dropout rate for the residual connections\n",
    "    def __init__(\n",
    "        self, self_attention_block: MultiHeadAttentionBlock, \n",
    "        feed_forward_block: FeedForwardBlock, \n",
    "        dropout: float\n",
    "    ) -> None:\n",
    "        super().__init__()\n",
    "        # Storing the self-attention block and feed-forward block\n",
    "        self.self_attention_block = self_attention_block\n",
    "        self.feed_forward_block = feed_forward_block\n",
    "        self.residual_connections = nn.ModuleList(\n",
    "            [ResidualConnection(dropout) for _ in range(2)]\n",
    "        )  # 2 Residual Connections with dropout\n",
    "\n",
    "    def forward(self, x, src_mask):\n",
    "        # Applying the first residual connection with the self-attention block\n",
    "        x = self.residual_connections[0](\n",
    "            x, lambda x: self.self_attention_block(x, x, x, src_mask)\n",
    "        )  # Three 'x's corresponding to query, key, and value inputs plus source mask\n",
    "\n",
    "        # Applying the second residual connection with the feed-forward block\n",
    "        x = self.residual_connections[1](x, self.feed_forward_block)\n",
    "        return x  # Output tensor after applying self-attention and feed-forward layers with residual connections."
   ]
  },
  {
   "cell_type": "code",
   "execution_count": 26,
   "metadata": {},
   "outputs": [],
   "source": [
    "# Building Encoder\n",
    "# An Encoder can have several Encoder Blocks\n",
    "class Encoder(nn.Module):\n",
    "\n",
    "    # The Encoder takes in instances of 'EncoderBlock'\n",
    "    def __init__(self, layers: nn.ModuleList) -> None:\n",
    "        super().__init__()\n",
    "        self.layers = layers  # Storing the EncoderBlocks\n",
    "        self.norm = LayerNormalization()  # Layer for the normalization of the output of the encoder layers\n",
    "\n",
    "    def forward(self, x, mask):\n",
    "        # Iterating over each EncoderBlock stored in self.layers\n",
    "        for layer in self.layers:\n",
    "            x = layer(x, mask)  # Applying each EncoderBlock to the input tensor 'x'\n",
    "        return self.norm(x)  # Normalizing output"
   ]
  },
  {
   "cell_type": "markdown",
   "metadata": {},
   "source": [
    "## Decoder"
   ]
  },
  {
   "cell_type": "markdown",
   "metadata": {},
   "source": [
    "Similarly, the Decoder also consists of several DecoderBlocks that repeat six times in the original paper. The main difference is that it has an additional sub-layer that performs multi-head attention with a cross-attention component that uses the output of the Encoder as its keys and values while using the Decoder's input as queries.\n",
    "\n",
    "<a href=\"Decoder\"><img src=\"https://res.cloudinary.com/edlitera/image/upload/c_fill,f_auto/v1680629118/blog/gz5ccspg3yvq4eo6xhrr\" ></a>\n",
    "\n",
    "\n",
    "\n",
    "For the Output Embedding, we can use the same InputEmbeddings class we use for the Encoder. You can also notice that the self-attention sub-layer is masked, which restricts the model from accessing future elements in the sequence.\n",
    "\n",
    "We will start by building the DecoderBlock class, and then we will build the Decoder class, which will assemble multiple DecoderBlocks.\n"
   ]
  },
  {
   "cell_type": "code",
   "execution_count": 27,
   "metadata": {},
   "outputs": [],
   "source": [
    "# Building Decoder Block\n",
    "class DecoderBlock(nn.Module):\n",
    "\n",
    "    # The DecoderBlock takes in two MultiHeadAttentionBlock. One is self-attention, while the other is cross-attention.\n",
    "    # It also takes in the feed-forward block and the dropout rate\n",
    "    def __init__(\n",
    "        self,\n",
    "        self_attention_block: MultiHeadAttentionBlock,\n",
    "        cross_attention_block: MultiHeadAttentionBlock,\n",
    "        feed_forward_block: FeedForwardBlock,\n",
    "        dropout: float,\n",
    "    ) -> None:\n",
    "        super().__init__()\n",
    "        self.self_attention_block = self_attention_block\n",
    "        self.cross_attention_block = cross_attention_block\n",
    "        self.feed_forward_block = feed_forward_block\n",
    "        self.residual_connections = nn.ModuleList(\n",
    "            [ResidualConnection(dropout) for _ in range(3)]\n",
    "        )  # List of three Residual Connections with dropout rate\n",
    "\n",
    "    def forward(self, x, encoder_output, src_mask, tgt_mask):\n",
    "\n",
    "        # Self-Attention block with query, key, and value plus the target language mask\n",
    "        x = self.residual_connections[0](x, lambda x: self.self_attention_block(x, x, x, tgt_mask))\n",
    "\n",
    "        # The Cross-Attention block using two 'encoder_ouput's for key and value plus the source language mask. It also takes in 'x' for Decoder queries\n",
    "        x = self.residual_connections[1](\n",
    "            x, lambda x: self.cross_attention_block(x, encoder_output, encoder_output, src_mask)\n",
    "        )\n",
    "\n",
    "        # Feed-forward block with residual connections\n",
    "        x = self.residual_connections[2](x, self.feed_forward_block)\n",
    "        return x"
   ]
  },
  {
   "cell_type": "code",
   "execution_count": 28,
   "metadata": {},
   "outputs": [],
   "source": [
    "# Building Decoder\n",
    "# A Decoder can have several Decoder Blocks\n",
    "class Decoder(nn.Module):\n",
    "\n",
    "    # The Decoder takes in instances of 'DecoderBlock'\n",
    "    def __init__(self, layers: nn.ModuleList) -> None:\n",
    "        super().__init__()\n",
    "\n",
    "        # Storing the 'DecoderBlock's\n",
    "        self.layers = layers\n",
    "        self.norm = LayerNormalization()  # Layer to normalize the output\n",
    "\n",
    "    def forward(self, x, encoder_output, src_mask, tgt_mask):\n",
    "\n",
    "        # Iterating over each DecoderBlock stored in self.layers\n",
    "        for layer in self.layers:\n",
    "            # Applies each DecoderBlock to the input 'x' plus the encoder output and source and target masks\n",
    "            x = layer(x, encoder_output, src_mask, tgt_mask)\n",
    "        return self.norm(x)  # Returns normalized output"
   ]
  },
  {
   "cell_type": "markdown",
   "metadata": {},
   "source": [
    "\n",
    "\n",
    "You can see in the Decoder image that after running a stack of DecoderBlocks, we have a Linear Layer and a Softmax function to the output of probabilities. The ProjectionLayer class below is responsible for converting the output of the model into a probability distribution over the vocabulary, where we select each output token from a vocabulary of possible tokens.\n"
   ]
  },
  {
   "cell_type": "code",
   "execution_count": 29,
   "metadata": {},
   "outputs": [],
   "source": [
    "# Buiding Linear Layer\n",
    "class ProjectionLayer(nn.Module):\n",
    "    def __init__(self, d_model: int, vocab_size: int) -> None:  # Model dimension and the size of the output vocabulary\n",
    "        super().__init__()\n",
    "        self.proj = nn.Linear(\n",
    "            d_model, vocab_size\n",
    "        )  # Linear layer for projecting the feature space of 'd_model' to the output space of 'vocab_size'\n",
    "\n",
    "    def forward(self, x):\n",
    "        return torch.log_softmax(self.proj(x), dim=-1)  # Applying the log Softmax function to the output"
   ]
  },
  {
   "cell_type": "markdown",
   "metadata": {},
   "source": [
    "## Building the transoformer"
   ]
  },
  {
   "cell_type": "markdown",
   "metadata": {},
   "source": [
    "\n",
    "\n",
    "We finally have every component of the Transformer architecture ready. We may now construct the Transformer by putting it all together.\n",
    "\n",
    "In the Transformer class below, we will bring together all the components of the model's architecture.\n"
   ]
  },
  {
   "cell_type": "code",
   "execution_count": 30,
   "metadata": {},
   "outputs": [],
   "source": [
    "# Creating the Transformer Architecture\n",
    "class Transformer(nn.Module):\n",
    "\n",
    "    # This takes in the encoder and decoder, as well the embeddings for the source and target language.\n",
    "    # It also takes in the Positional Encoding for the source and target language, as well as the projection layer\n",
    "    def __init__(\n",
    "        self,\n",
    "        encoder: Encoder,\n",
    "        decoder: Decoder,\n",
    "        src_embed: InputEmbeddings,\n",
    "        tgt_embed: InputEmbeddings,\n",
    "        src_pos: PositionalEncoding,\n",
    "        tgt_pos: PositionalEncoding,\n",
    "        projection_layer: ProjectionLayer,\n",
    "    ) -> None:\n",
    "        super().__init__()\n",
    "        self.encoder = encoder\n",
    "        self.decoder = decoder\n",
    "        self.src_embed = src_embed\n",
    "        self.tgt_embed = tgt_embed\n",
    "        self.src_pos = src_pos\n",
    "        self.tgt_pos = tgt_pos\n",
    "        self.projection_layer = projection_layer\n",
    "\n",
    "    # Encoder\n",
    "    def encode(self, src, src_mask):\n",
    "        src = self.src_embed(src)  # Applying source embeddings to the input source language\n",
    "        src = self.src_pos(src)  # Applying source positional encoding to the source embeddings\n",
    "        return self.encoder(\n",
    "            src, src_mask\n",
    "        )  # Returning the source embeddings plus a source mask to prevent attention to certain elements\n",
    "\n",
    "    # Decoder\n",
    "    def decode(self, encoder_output, src_mask, tgt, tgt_mask):\n",
    "        tgt = self.tgt_embed(tgt)  # Applying target embeddings to the input target language (tgt)\n",
    "        tgt = self.tgt_pos(tgt)  # Applying target positional encoding to the target embeddings\n",
    "\n",
    "        # Returning the target embeddings, the output of the encoder, and both source and target masks\n",
    "        # The target mask ensures that the model won't 'see' future elements of the sequence\n",
    "        return self.decoder(tgt, encoder_output, src_mask, tgt_mask)\n",
    "\n",
    "    # Applying Projection Layer with the Softmax function to the Decoder output\n",
    "    def project(self, x):\n",
    "        return self.projection_layer(x)"
   ]
  },
  {
   "cell_type": "markdown",
   "metadata": {},
   "source": [
    "\n",
    "\n",
    "The architecture is finally ready. We now define a function called build_transformer, in which we define the parameters and everything we need to have a fully operational Transformer model for the task of machine translation.\n",
    "\n",
    "We will set the same parameters as in the original paper, Attention Is All You Need, where dmodel\n",
    "= 512, N = 6, h = 8, dropout rate Pdrop = 0.1, and dff = 2048."
   ]
  },
  {
   "cell_type": "code",
   "execution_count": 31,
   "metadata": {},
   "outputs": [],
   "source": [
    "# Building & Initializing Transformer\n",
    "\n",
    "\n",
    "# Definin function and its parameter, including model dimension, number of encoder and decoder stacks, heads, etc.\n",
    "def build_transformer(\n",
    "    src_vocab_size: int,\n",
    "    tgt_vocab_size: int,\n",
    "    src_seq_len: int,\n",
    "    tgt_seq_len: int,\n",
    "    d_model: int = 512,\n",
    "    N: int = 6,\n",
    "    h: int = 8,\n",
    "    dropout: float = 0.1,\n",
    "    d_ff: int = 2048,\n",
    ") -> Transformer:\n",
    "\n",
    "    # Creating Embedding layers\n",
    "    src_embed = InputEmbeddings(\n",
    "        d_model, src_vocab_size\n",
    "    )  # Source language (Source Vocabulary to 512-dimensional vectors)\n",
    "    tgt_embed = InputEmbeddings(\n",
    "        d_model, tgt_vocab_size\n",
    "    )  # Target language (Target Vocabulary to 512-dimensional vectors)\n",
    "\n",
    "    # Creating Positional Encoding layers\n",
    "    src_pos = PositionalEncoding(\n",
    "        d_model, src_seq_len, dropout\n",
    "    )  # Positional encoding for the source language embeddings\n",
    "    tgt_pos = PositionalEncoding(\n",
    "        d_model, tgt_seq_len, dropout\n",
    "    )  # Positional encoding for the target language embeddings\n",
    "\n",
    "    # Creating EncoderBlocks\n",
    "    encoder_blocks = []  # Initial list of empty EncoderBlocks\n",
    "    for _ in range(N):  # Iterating 'N' times to create 'N' EncoderBlocks (N = 6)\n",
    "        encoder_self_attention_block = MultiHeadAttentionBlock(d_model, h, dropout)  # Self-Attention\n",
    "        feed_forward_block = FeedForwardBlock(d_model, d_ff, dropout)  # FeedForward\n",
    "\n",
    "        # Combine layers into an EncoderBlock\n",
    "        encoder_block = EncoderBlock(encoder_self_attention_block, feed_forward_block, dropout)\n",
    "        encoder_blocks.append(encoder_block)  # Appending EncoderBlock to the list of EncoderBlocks\n",
    "\n",
    "    # Creating DecoderBlocks\n",
    "    decoder_blocks = []  # Initial list of empty DecoderBlocks\n",
    "    for _ in range(N):  # Iterating 'N' times to create 'N' DecoderBlocks (N = 6)\n",
    "        decoder_self_attention_block = MultiHeadAttentionBlock(d_model, h, dropout)  # Self-Attention\n",
    "        decoder_cross_attention_block = MultiHeadAttentionBlock(d_model, h, dropout)  # Cross-Attention\n",
    "        feed_forward_block = FeedForwardBlock(d_model, d_ff, dropout)  # FeedForward\n",
    "\n",
    "        # Combining layers into a DecoderBlock\n",
    "        decoder_block = DecoderBlock(\n",
    "            decoder_self_attention_block, decoder_cross_attention_block, feed_forward_block, dropout\n",
    "        )\n",
    "        decoder_blocks.append(decoder_block)  # Appending DecoderBlock to the list of DecoderBlocks\n",
    "\n",
    "    # Creating the Encoder and Decoder by using the EncoderBlocks and DecoderBlocks lists\n",
    "    encoder = Encoder(nn.ModuleList(encoder_blocks))\n",
    "    decoder = Decoder(nn.ModuleList(decoder_blocks))\n",
    "\n",
    "    # Creating projection layer\n",
    "    projection_layer = ProjectionLayer(\n",
    "        d_model, tgt_vocab_size\n",
    "    )  # Map the output of Decoder to the Target Vocabulary Space\n",
    "\n",
    "    # Creating the transformer by combining everything above\n",
    "    transformer = Transformer(encoder, decoder, src_embed, tgt_embed, src_pos, tgt_pos, projection_layer)\n",
    "\n",
    "    # Initialize the parameters\n",
    "    for p in transformer.parameters():\n",
    "        if p.dim() > 1:\n",
    "            nn.init.xavier_uniform_(p)\n",
    "\n",
    "    return transformer  # Assembled and initialized Transformer. Ready to be trained and validated!"
   ]
  },
  {
   "cell_type": "markdown",
   "metadata": {},
   "source": [
    "## Validation Loop"
   ]
  },
  {
   "cell_type": "markdown",
   "metadata": {},
   "source": [
    "\n",
    "\n",
    "We will now create two functions for the validation loop. The validation loop is crucial to evaluate model performance in translating sentences from data it has not seen during training.\n",
    "\n",
    "We will define two functions. The first function, greedy_decode, gives us the model's output by obtaining the most probable next token. The second function, run_validation, is responsible for running the validation process in which we decode the model's output and compare it with the reference text for the target sentence.\n"
   ]
  },
  {
   "cell_type": "code",
   "execution_count": 32,
   "metadata": {},
   "outputs": [],
   "source": [
    "# Define function to obtain the most probable next token\n",
    "def greedy_decode(model, source, source_mask, tokenizer_src, tokenizer_tgt, max_len, device):\n",
    "    # Retrieving the indices from the start and end of sequences of the target tokens\n",
    "    sos_idx = tokenizer_tgt.token_to_id(\"[SOS]\")\n",
    "    eos_idx = tokenizer_tgt.token_to_id(\"[EOS]\")\n",
    "\n",
    "    # Computing the output of the encoder for the source sequence\n",
    "    encoder_output = model.encode(source, source_mask)\n",
    "    # Initializing the decoder input with the Start of Sentence token\n",
    "    decoder_input = torch.empty(1, 1).fill_(sos_idx).type_as(source).to(device)\n",
    "\n",
    "    # Looping until the 'max_len', maximum length, is reached\n",
    "    while True:\n",
    "        if decoder_input.size(1) == max_len:\n",
    "            break\n",
    "\n",
    "        # Building a mask for the decoder input\n",
    "        decoder_mask = casual_mask(decoder_input.size(1)).type_as(source_mask).to(device)\n",
    "\n",
    "        # Calculating the output of the decoder\n",
    "        out = model.decode(encoder_output, source_mask, decoder_input, decoder_mask)\n",
    "\n",
    "        # Applying the projection layer to get the probabilities for the next token\n",
    "        prob = model.project(out[:, -1])\n",
    "\n",
    "        # Selecting token with the highest probability\n",
    "        _, next_word = torch.max(prob, dim=1)\n",
    "        decoder_input = torch.cat(\n",
    "            [decoder_input, torch.empty(1, 1).type_as(source).fill_(next_word.item()).to(device)], dim=1\n",
    "        )\n",
    "\n",
    "        # If the next token is an End of Sentence token, we finish the loop\n",
    "        if next_word == eos_idx:\n",
    "            break\n",
    "\n",
    "    return decoder_input.squeeze(0)  # Sequence of tokens generated by the decoder"
   ]
  },
  {
   "cell_type": "code",
   "execution_count": 33,
   "metadata": {},
   "outputs": [],
   "source": [
    "# Defining function to evaluate the model on the validation dataset\n",
    "# num_examples = 2, two examples per run\n",
    "def run_validation(\n",
    "    model,\n",
    "    validation_ds,\n",
    "    tokenizer_src,\n",
    "    tokenizer_tgt,\n",
    "    max_len,\n",
    "    device,\n",
    "    print_msg,\n",
    "    global_state,\n",
    "    writer,\n",
    "    num_examples=2,\n",
    "):\n",
    "    model.eval()  # Setting model to evaluation mode\n",
    "    count = 0  # Initializing counter to keep track of how many examples have been processed\n",
    "\n",
    "    console_width = 80  # Fixed witdh for printed messages\n",
    "\n",
    "    # Creating evaluation loop\n",
    "    with torch.no_grad():  # Ensuring that no gradients are computed during this process\n",
    "        for batch in validation_ds:\n",
    "            count += 1\n",
    "            encoder_input = batch[\"encoder_input\"].to(device)\n",
    "            encoder_mask = batch[\"encoder_mask\"].to(device)\n",
    "\n",
    "            # Ensuring that the batch_size of the validation set is 1\n",
    "            assert encoder_input.size(0) == 1, \"Batch size must be 1 for validation.\"\n",
    "\n",
    "            # Applying the 'greedy_decode' function to get the model's output for the source text of the input batch\n",
    "            model_out = greedy_decode(\n",
    "                model, encoder_input, encoder_mask, tokenizer_src, tokenizer_tgt, max_len, device\n",
    "            )\n",
    "\n",
    "            # Retrieving source and target texts from the batch\n",
    "            source_text = batch[\"src_text\"][0]\n",
    "            target_text = batch[\"tgt_text\"][0]  # True translation\n",
    "            model_out_text = tokenizer_tgt.decode(\n",
    "                model_out.detach().cpu().numpy()\n",
    "            )  # Decoded, human-readable model output\n",
    "\n",
    "            # Printing results\n",
    "            print_msg(\"-\" * console_width)\n",
    "            print_msg(f\"SOURCE: {source_text}\")\n",
    "            print_msg(f\"TARGET: {target_text}\")\n",
    "            print_msg(f\"PREDICTED: {model_out_text}\")\n",
    "\n",
    "            # After two examples, we break the loop\n",
    "            if count == num_examples:\n",
    "                break"
   ]
  },
  {
   "cell_type": "markdown",
   "metadata": {},
   "source": [
    "## Training loop"
   ]
  },
  {
   "cell_type": "markdown",
   "metadata": {},
   "source": [
    "\n",
    "\n",
    "We are ready to train our Transformer model on the OpusBook dataset for the English to Italian translation task.\n",
    "\n",
    "We first start by defining the get_model function to load the model by calling the build_transformer function we have previously defined. This function uses the config dictionary to set a few parameters.\n"
   ]
  },
  {
   "cell_type": "code",
   "execution_count": 34,
   "metadata": {},
   "outputs": [],
   "source": [
    "# We pass as parameters the config dictionary, the length of the vocabylary of the source language and the target language\n",
    "def get_model(config, vocab_src_len, vocab_tgt_len):\n",
    "\n",
    "    # Loading model using the 'build_transformer' function.\n",
    "    # We will use the lengths of the source language and target language vocabularies, the 'seq_len', and the dimensionality of the embeddings\n",
    "    model = build_transformer(vocab_src_len, vocab_tgt_len, config[\"seq_len\"], config[\"seq_len\"], config[\"d_model\"])\n",
    "    return model"
   ]
  },
  {
   "cell_type": "markdown",
   "metadata": {},
   "source": [
    "The get_weights_file_path function constructs the file path for saving or loading model weights for any specific epoch.\n"
   ]
  },
  {
   "cell_type": "code",
   "execution_count": 35,
   "metadata": {},
   "outputs": [],
   "source": [
    "# Function to construct the path for saving and retrieving model weights\n",
    "def get_weights_file_path(config, epoch: str):\n",
    "    model_folder = config[\"model_folder\"]  # Extracting model folder from the config\n",
    "    model_basename = config[\"model_basename\"]  # Extracting the base name for model files\n",
    "    model_filename = f\"{model_basename}{epoch}.pt\"  # Building filename\n",
    "    return str(\n",
    "        Path(\".\") / model_folder / model_filename\n",
    "    )  # Combining current directory, the model folder, and the model filename"
   ]
  },
  {
   "cell_type": "markdown",
   "metadata": {},
   "source": [
    "\n",
    "\n",
    "We finally define our last function, train_model, which takes the config arguments as input.\n",
    "\n",
    "In this function, we will set everything up for the training. We will load the model and its necessary components onto the GPU for faster training, set the Adam optimizer, and configure the CrossEntropyLoss function to compute the differences between the translations output by the model and the reference translations from the dataset.\n",
    "\n",
    "Every loop necessary for iterating over the training batches, performing backpropagation, and computing the gradients is in this function. We will also use it to run the validation function and save the current state of the model.\n"
   ]
  },
  {
   "cell_type": "code",
   "execution_count": 36,
   "metadata": {},
   "outputs": [],
   "source": [
    "def train_model(config):\n",
    "    # Setting up device to run on GPU to train faster\n",
    "    device = torch.device(\"cuda\" if torch.cuda.is_available() else \"cpu\")\n",
    "    print(f\"Using device {device}\")\n",
    "\n",
    "    # Creating model directory to store weights\n",
    "    Path(config[\"model_folder\"]).mkdir(parents=True, exist_ok=True)\n",
    "\n",
    "    # Retrieving dataloaders and tokenizers for source and target languages using the 'get_dl' function\n",
    "    train_dataloader, val_dataloader, tokenizer_src, tokenizer_tgt = get_dl(config)\n",
    "\n",
    "    # Initializing model on the GPU using the 'get_model' function\n",
    "    model = get_model(config, tokenizer_src.get_vocab_size(), tokenizer_tgt.get_vocab_size()).to(device)\n",
    "\n",
    "    # Tensorboard\n",
    "    writer = SummaryWriter(config[\"experiment_name\"])\n",
    "\n",
    "    # Setting up the Adam optimizer with the specified learning rate from the '\n",
    "    # config' dictionary plus an epsilon value\n",
    "    optimizer = torch.optim.Adam(model.parameters(), lr=config[\"lr\"], eps=1e-9)\n",
    "\n",
    "    # Initializing epoch and global step variables\n",
    "    initial_epoch = 0\n",
    "    global_step = 0\n",
    "\n",
    "    # Checking if there is a pre-trained model to load\n",
    "    # If true, loads it\n",
    "    if config[\"preload\"]:\n",
    "        model_filename = get_weights_file_path(config, config[\"preload\"])\n",
    "        print(f\"Preloading model {model_filename}\")\n",
    "        state = torch.load(model_filename)  # Loading model\n",
    "\n",
    "        # Sets epoch to the saved in the state plus one, to resume from where it stopped\n",
    "        initial_epoch = state[\"epoch\"] + 1\n",
    "        # Loading the optimizer state from the saved model\n",
    "        optimizer.load_state_dict(state[\"optimizer_state_dict\"])\n",
    "        # Loading the global step state from the saved model\n",
    "        global_step = state[\"global_step\"]\n",
    "\n",
    "    # Initializing CrossEntropyLoss function for training\n",
    "    # We ignore padding tokens when computing loss, as they are not relevant for the learning process\n",
    "    # We also apply label_smoothing to prevent overfitting\n",
    "    loss_fn = nn.CrossEntropyLoss(ignore_index=tokenizer_src.token_to_id(\"[PAD]\"), label_smoothing=0.1).to(device)\n",
    "\n",
    "    # Initializing training loop\n",
    "\n",
    "    # Iterating over each epoch from the 'initial_epoch' variable up to\n",
    "    # the number of epochs informed in the config\n",
    "    for epoch in range(initial_epoch, config[\"num_epochs\"]):\n",
    "\n",
    "        # Initializing an iterator over the training dataloader\n",
    "        # We also use tqdm to display a progress bar\n",
    "        batch_iterator = tqdm(train_dataloader, desc=f\"Processing epoch {epoch:02d}\")\n",
    "\n",
    "        # For each batch...\n",
    "        for batch in batch_iterator:\n",
    "            model.train()  # Train the model\n",
    "\n",
    "            # Loading input data and masks onto the GPU\n",
    "            encoder_input = batch[\"encoder_input\"].to(device)\n",
    "            decoder_input = batch[\"decoder_input\"].to(device)\n",
    "            encoder_mask = batch[\"encoder_mask\"].to(device)\n",
    "            decoder_mask = batch[\"decoder_mask\"].to(device)\n",
    "\n",
    "            # Running tensors through the Transformer\n",
    "            encoder_output = model.encode(encoder_input, encoder_mask)\n",
    "            decoder_output = model.decode(encoder_output, encoder_mask, decoder_input, decoder_mask)\n",
    "            proj_output = model.project(decoder_output)\n",
    "\n",
    "            # Loading the target labels onto the GPU\n",
    "            label = batch[\"label\"].to(device)\n",
    "\n",
    "            # Computing loss between model's output and true labels\n",
    "            loss = loss_fn(proj_output.view(-1, tokenizer_tgt.get_vocab_size()), label.view(-1))\n",
    "\n",
    "            # Updating progress bar\n",
    "            batch_iterator.set_postfix({f\"loss\": f\"{loss.item():6.3f}\"})\n",
    "\n",
    "            writer.add_scalar(\"train loss\", loss.item(), global_step)\n",
    "            writer.flush()\n",
    "\n",
    "            # Performing backpropagation\n",
    "            loss.backward()\n",
    "\n",
    "            # Updating parameters based on the gradients\n",
    "            optimizer.step()\n",
    "\n",
    "            # Clearing the gradients to prepare for the next batch\n",
    "            optimizer.zero_grad()\n",
    "\n",
    "            global_step += 1  # Updating global step count\n",
    "\n",
    "        # We run the 'run_validation' function at the end of each epoch\n",
    "        # to evaluate model performance\n",
    "        run_validation(\n",
    "            model,\n",
    "            val_dataloader,\n",
    "            tokenizer_src,\n",
    "            tokenizer_tgt,\n",
    "            config[\"seq_len\"],\n",
    "            device,\n",
    "            lambda msg: batch_iterator.write(msg),\n",
    "            global_step,\n",
    "            writer,\n",
    "        )\n",
    "\n",
    "        # Saving model\n",
    "        model_filename = get_weights_file_path(config, f\"{epoch:02d}\")\n",
    "        # Writting current model state to the 'model_filename'\n",
    "        torch.save(\n",
    "            {\n",
    "                \"epoch\": epoch,  # Current epoch\n",
    "                \"model_state_dict\": model.state_dict(),  # Current model state\n",
    "                \"optimizer_state_dict\": optimizer.state_dict(),  # Current optimizer state\n",
    "                \"global_step\": global_step,  # Current global step\n",
    "            },\n",
    "            model_filename,\n",
    "        )"
   ]
  },
  {
   "cell_type": "code",
   "execution_count": 37,
   "metadata": {},
   "outputs": [
    {
     "name": "stdout",
     "output_type": "stream",
     "text": [
      "Using device cuda\n",
      "Max length of source sentence: 309\n",
      "Max length of target sentence: 274\n"
     ]
    },
    {
     "name": "stderr",
     "output_type": "stream",
     "text": [
      "Processing epoch 00: 100%|██████████| 3638/3638 [19:12<00:00,  3.16it/s, loss=5.627]\n"
     ]
    },
    {
     "name": "stdout",
     "output_type": "stream",
     "text": [
      "--------------------------------------------------------------------------------\n",
      "SOURCE: Jane suits me: do I suit her?\"\n",
      "TARGET: Jane mi piace, e io, le piaccio?\n",
      "PREDICTED: E che cosa è mai ?\n",
      "--------------------------------------------------------------------------------\n",
      "SOURCE: The sufferings of this mortal state will leave me with the heavy flesh that now cumbers my soul.\n",
      "TARGET: Le sofferenze di questa vita mortale cesseranno col cessare di una esistenza che mi opprime l'anima.\n",
      "PREDICTED: La mia mia cosa mi , e mi , e mi , e mi .\n"
     ]
    },
    {
     "name": "stderr",
     "output_type": "stream",
     "text": [
      "Processing epoch 01: 100%|██████████| 3638/3638 [18:27<00:00,  3.28it/s, loss=3.753]\n"
     ]
    },
    {
     "name": "stdout",
     "output_type": "stream",
     "text": [
      "--------------------------------------------------------------------------------\n",
      "SOURCE: On the evening of the day on which I had seen Miss Scatcherd flog her pupil, Burns, I wandered as usual among the forms and tables and laughing groups without a companion, yet not feeling lonely: when I passed the windows, I now and then lifted a blind, and looked out; it snowed fast, a drift was already forming against the lower panes; putting my ear close to the window, I could distinguish from the gleeful tumult within, the disconsolate moan of the wind outside.\n",
      "TARGET: La sera di quel giorno io passeggiava fra i gruppi allegri, senza una compagna, eppure non mi sentivo isolata.\n",
      "PREDICTED: Quando il giorno era un ' altra volta , mi era stato stato stato stato un ' altra volta , e mi era stato , e mi era stato stato stato , e mi era stato stato stato , e mi era stato stato stato , e mi era stato stato stato stato in un ' altra volta , e non mi era stato stato stato stato in un ' altra volta , ma non mi era stato stato stato stato in un ' altra , e che non mi era stato in un momento .\n",
      "--------------------------------------------------------------------------------\n",
      "SOURCE: And do you always come to see them off?' he asked with a slight smile.\n",
      "TARGET: E voi accompagnate sempre? — disse Sergej Ivanovic con un sorriso appena percettibile.\n",
      "PREDICTED: E che cosa sono ? — disse il principe , guardando la principessa , guardando la principessa .\n"
     ]
    }
   ],
   "source": [
    "warnings.filterwarnings('ignore') # Filtering warnings\n",
    "config = get_config() # Retrieving config settings\n",
    "train_model(config) # Training model with the config arguments"
   ]
  }
 ],
 "metadata": {
  "kernelspec": {
   "display_name": "venv",
   "language": "python",
   "name": "python3"
  },
  "language_info": {
   "codemirror_mode": {
    "name": "ipython",
    "version": 3
   },
   "file_extension": ".py",
   "mimetype": "text/x-python",
   "name": "python",
   "nbconvert_exporter": "python",
   "pygments_lexer": "ipython3",
   "version": "3.10.12"
  }
 },
 "nbformat": 4,
 "nbformat_minor": 2
}
